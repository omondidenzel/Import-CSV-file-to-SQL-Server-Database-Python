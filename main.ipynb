{
 "cells": [
  {
   "cell_type": "code",
   "execution_count": 1,
   "metadata": {},
   "outputs": [],
   "source": [
    "#Install dependencies\n",
    "import mysql.connector\n",
    "import csv"
   ]
  },
  {
   "attachments": {},
   "cell_type": "markdown",
   "metadata": {},
   "source": [
    "CREATE DB ID DO NOT Exist"
   ]
  },
  {
   "cell_type": "code",
   "execution_count": 2,
   "metadata": {},
   "outputs": [],
   "source": [
    "#create connection\n",
    "# mydb = mysql.connector.connect(\n",
    "#     host=\"127.0.0.1\",\n",
    "#     user=\"root\", \n",
    "#     password = \"false\"\n",
    "# )\n",
    "\n",
    "# mycursor = mydb.cursor()\n",
    "# query = \"CREATE DATABASE DenzelCsvUpload\"\n",
    "# mycursor.execute(query)"
   ]
  },
  {
   "cell_type": "code",
   "execution_count": 3,
   "metadata": {},
   "outputs": [],
   "source": [
    "#create connection\n",
    "mydb = mysql.connector.connect(\n",
    "    host=\"127.0.0.1\",\n",
    "    user=\"root\", \n",
    "    database = \"DenzelCsvUpload\",\n",
    "    password = \"false\"\n",
    ")\n",
    "\n",
    "mycursor = mydb.cursor()"
   ]
  },
  {
   "cell_type": "code",
   "execution_count": 4,
   "metadata": {},
   "outputs": [
    {
     "name": "stdout",
     "output_type": "stream",
     "text": [
      "('DenzelCsvUpload',)\n",
      "('information_schema',)\n",
      "('mysql',)\n",
      "('performance_schema',)\n",
      "('school',)\n",
      "('sys',)\n",
      "('training',)\n"
     ]
    }
   ],
   "source": [
    "#Check if Database Exists\n",
    "checkDBQuery = \"SHOW DATABASES\"\n",
    "mycursor.execute(checkDBQuery)\n",
    "for x in mycursor:\n",
    "    print(f\"{x}\")"
   ]
  },
  {
   "attachments": {},
   "cell_type": "markdown",
   "metadata": {},
   "source": [
    "CREATE TABLE IF DO NOT EXIST"
   ]
  },
  {
   "cell_type": "code",
   "execution_count": 5,
   "metadata": {},
   "outputs": [],
   "source": [
    "#Create table\n",
    "#mycursor.execute(\"CREATE TABLE ford (model VARCHAR(255),year VARCHAR(255),price VARCHAR(255),transmission VARCHAR(255),mileage VARCHAR(255),fuelType VARCHAR(255),tax VARCHAR(255),mpg VARCHAR(255),engineSize VARCHAR(255))\")"
   ]
  },
  {
   "attachments": {},
   "cell_type": "markdown",
   "metadata": {},
   "source": [
    "Read csv Upload dataset from the Csv to db"
   ]
  },
  {
   "cell_type": "code",
   "execution_count": 8,
   "metadata": {},
   "outputs": [],
   "source": [
    "with open('ford.csv', 'r') as csv_file:\n",
    "    #Read and convert to dict\n",
    "    csvfile = csv.DictReader(csv_file)\n",
    "    #Read dataset \n",
    "    all_value = []\n",
    "    for row in csvfile:\n",
    "        value = [row['model'], row['year'], row['price'],row['transmission'],row['mileage'],row['fuelType'],row['tax'],row['mpg'],row['engineSize']]\n",
    "        all_value.append(value)\n",
    "        #all_value = [row['model']]\n",
    "#print(all_value)\n"
   ]
  },
  {
   "cell_type": "code",
   "execution_count": 7,
   "metadata": {},
   "outputs": [],
   "source": [
    "#Insert into the table\n",
    "mycursor = mydb.cursor()\n",
    "query = 'INSERT INTO ford (model,year,price,transmission,mileage,fuelType,tax,mpg,engineSize) VALUES (%s,%s,%s,%s,%s,%s,%s,%s,%s)'\n",
    "mycursor.executemany(query, all_value)\n",
    "mydb.commit()"
   ]
  }
 ],
 "metadata": {
  "kernelspec": {
   "display_name": "Python 3",
   "language": "python",
   "name": "python3"
  },
  "language_info": {
   "codemirror_mode": {
    "name": "ipython",
    "version": 3
   },
   "file_extension": ".py",
   "mimetype": "text/x-python",
   "name": "python",
   "nbconvert_exporter": "python",
   "pygments_lexer": "ipython3",
   "version": "3.9.6"
  },
  "orig_nbformat": 4
 },
 "nbformat": 4,
 "nbformat_minor": 2
}
